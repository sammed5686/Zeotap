{
 "cells": [
  {
   "cell_type": "code",
   "execution_count": 7,
   "id": "2ca746ca",
   "metadata": {},
   "outputs": [
    {
     "name": "stdout",
     "output_type": "stream",
     "text": [
      "Lookalike.csv file saved to sammed_barwade_Lookalike.csv in the required format.\n"
     ]
    }
   ],
   "source": [
    "import pandas as pd\n",
    "from sklearn.preprocessing import MinMaxScaler\n",
    "from sklearn.metrics.pairwise import cosine_similarity\n",
    "\n",
    "# Datasets\n",
    "customers = pd.read_csv(\"Customers.csv\")\n",
    "transactions = pd.read_csv(\"Transactions.csv\")\n",
    "products = pd.read_csv(\"Products.csv\")\n",
    "\n",
    "# Merging transactions with products to include category information\n",
    "merged_data = transactions.merge(products[['ProductID', 'Category']], on='ProductID')\n",
    "\n",
    "# Transaction data for each customer\n",
    "customer_features = merged_data.groupby('CustomerID').agg(\n",
    "    TotalSpending=('TotalValue', 'sum'),\n",
    "    TotalTransactions=('TransactionID', 'count'),\n",
    "    TotalQuantity=('Quantity', 'sum'),\n",
    "    PreferredCategory=('Category', lambda x: x.value_counts().idxmax())\n",
    ").reset_index()\n",
    "\n",
    "# Merging customer details\n",
    "customer_features = customer_features.merge(customers, on='CustomerID')\n",
    "\n",
    "# Encoded PreferredCategory and Region as numerical features\n",
    "customer_features = pd.get_dummies(customer_features, columns=['PreferredCategory', 'Region'])\n",
    "\n",
    "# Normalizing\n",
    "scaler = MinMaxScaler()\n",
    "normalized_features = customer_features.drop(columns=['CustomerID', 'CustomerName', 'SignupDate'])\n",
    "normalized_features = pd.DataFrame(scaler.fit_transform(normalized_features), columns=normalized_features.columns)\n",
    "\n",
    "# Computing similarity matrix\n",
    "similarity_matrix = cosine_similarity(normalized_features)\n",
    "\n",
    "# Mapping customer IDs to indices\n",
    "customer_indices = customer_features['CustomerID']\n",
    "\n",
    "# Recommendations for the first 20 customers\n",
    "recommendations = []\n",
    "for i in range(20):\n",
    "    similar_customers = sorted(\n",
    "        [(customer_indices[j], similarity_matrix[i, j]) for j in range(len(similarity_matrix)) if i != j],\n",
    "        key=lambda x: x[1],\n",
    "        reverse=True\n",
    "    )[:3]\n",
    "    recommendations.append({\n",
    "        'CustomerID': customer_indices[i],\n",
    "        'Lookalikes': str([(rec[0], round(rec[1], 4)) for rec in similar_customers])\n",
    "    })\n",
    "\n",
    "# CSV\n",
    "recommendations_df = pd.DataFrame(recommendations)\n",
    "recommendations_df.to_csv(\"sammed_barwade_Lookalike.csv\", index=False)\n",
    "\n",
    "print(\"Lookalike.csv file saved to sammed_barwade_Lookalike.csv in the required format.\")\n"
   ]
  },
  {
   "cell_type": "code",
   "execution_count": null,
   "id": "9361b35a",
   "metadata": {},
   "outputs": [],
   "source": []
  }
 ],
 "metadata": {
  "kernelspec": {
   "display_name": "Python 3 (ipykernel)",
   "language": "python",
   "name": "python3"
  },
  "language_info": {
   "codemirror_mode": {
    "name": "ipython",
    "version": 3
   },
   "file_extension": ".py",
   "mimetype": "text/x-python",
   "name": "python",
   "nbconvert_exporter": "python",
   "pygments_lexer": "ipython3",
   "version": "3.11.7"
  }
 },
 "nbformat": 4,
 "nbformat_minor": 5
}
